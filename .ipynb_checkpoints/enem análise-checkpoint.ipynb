{
 "cells": [
  {
   "cell_type": "code",
   "execution_count": 36,
   "metadata": {},
   "outputs": [],
   "source": [
    "import pandas as pd\n",
    "import seaborn as sns\n",
    "import matplotlib.pyplot as plt\n",
    "import numpy as np\n",
    "%matplotlib inline"
   ]
  },
  {
   "cell_type": "code",
   "execution_count": 3,
   "metadata": {},
   "outputs": [],
   "source": [
    "train = pd.read_csv('train.csv')\n",
    "test = pd.read_csv('test.csv')"
   ]
  },
  {
   "cell_type": "code",
   "execution_count": 4,
   "metadata": {},
   "outputs": [
    {
     "name": "stdout",
     "output_type": "stream",
     "text": [
      "<class 'pandas.core.frame.DataFrame'>\n",
      "RangeIndex: 13730 entries, 0 to 13729\n",
      "Columns: 167 entries, Unnamed: 0 to Q050\n",
      "dtypes: float64(28), int64(79), object(60)\n",
      "memory usage: 17.5+ MB\n"
     ]
    }
   ],
   "source": [
    "train.info()"
   ]
  },
  {
   "cell_type": "code",
   "execution_count": 5,
   "metadata": {},
   "outputs": [
    {
     "data": {
      "text/html": [
       "<div>\n",
       "<style scoped>\n",
       "    .dataframe tbody tr th:only-of-type {\n",
       "        vertical-align: middle;\n",
       "    }\n",
       "\n",
       "    .dataframe tbody tr th {\n",
       "        vertical-align: top;\n",
       "    }\n",
       "\n",
       "    .dataframe thead th {\n",
       "        text-align: right;\n",
       "    }\n",
       "</style>\n",
       "<table border=\"1\" class=\"dataframe\">\n",
       "  <thead>\n",
       "    <tr style=\"text-align: right;\">\n",
       "      <th></th>\n",
       "      <th>Unnamed: 0</th>\n",
       "      <th>NU_INSCRICAO</th>\n",
       "      <th>NU_ANO</th>\n",
       "      <th>CO_MUNICIPIO_RESIDENCIA</th>\n",
       "      <th>NO_MUNICIPIO_RESIDENCIA</th>\n",
       "      <th>CO_UF_RESIDENCIA</th>\n",
       "      <th>SG_UF_RESIDENCIA</th>\n",
       "      <th>NU_IDADE</th>\n",
       "      <th>TP_SEXO</th>\n",
       "      <th>TP_ESTADO_CIVIL</th>\n",
       "      <th>...</th>\n",
       "      <th>Q041</th>\n",
       "      <th>Q042</th>\n",
       "      <th>Q043</th>\n",
       "      <th>Q044</th>\n",
       "      <th>Q045</th>\n",
       "      <th>Q046</th>\n",
       "      <th>Q047</th>\n",
       "      <th>Q048</th>\n",
       "      <th>Q049</th>\n",
       "      <th>Q050</th>\n",
       "    </tr>\n",
       "  </thead>\n",
       "  <tbody>\n",
       "    <tr>\n",
       "      <th>0</th>\n",
       "      <td>1</td>\n",
       "      <td>ed50e8aaa58e7a806c337585efee9ca41f1eb1ad</td>\n",
       "      <td>2016</td>\n",
       "      <td>4314902</td>\n",
       "      <td>Porto Alegre</td>\n",
       "      <td>43</td>\n",
       "      <td>RS</td>\n",
       "      <td>24</td>\n",
       "      <td>M</td>\n",
       "      <td>0.0</td>\n",
       "      <td>...</td>\n",
       "      <td>5.0</td>\n",
       "      <td>A</td>\n",
       "      <td>A</td>\n",
       "      <td>A</td>\n",
       "      <td>A</td>\n",
       "      <td>A</td>\n",
       "      <td>A</td>\n",
       "      <td>A</td>\n",
       "      <td>B</td>\n",
       "      <td>D</td>\n",
       "    </tr>\n",
       "    <tr>\n",
       "      <th>1</th>\n",
       "      <td>2</td>\n",
       "      <td>2c3acac4b33ec2b195d77e7c04a2d75727fad723</td>\n",
       "      <td>2016</td>\n",
       "      <td>2304707</td>\n",
       "      <td>Granja</td>\n",
       "      <td>23</td>\n",
       "      <td>CE</td>\n",
       "      <td>17</td>\n",
       "      <td>F</td>\n",
       "      <td>0.0</td>\n",
       "      <td>...</td>\n",
       "      <td>NaN</td>\n",
       "      <td>A</td>\n",
       "      <td>A</td>\n",
       "      <td>C</td>\n",
       "      <td>A</td>\n",
       "      <td>B</td>\n",
       "      <td>A</td>\n",
       "      <td>A</td>\n",
       "      <td>C</td>\n",
       "      <td>A</td>\n",
       "    </tr>\n",
       "    <tr>\n",
       "      <th>2</th>\n",
       "      <td>3</td>\n",
       "      <td>f4545f8ccb9ff5c8aad7d32951b3f251a26e6568</td>\n",
       "      <td>2016</td>\n",
       "      <td>2304400</td>\n",
       "      <td>Fortaleza</td>\n",
       "      <td>23</td>\n",
       "      <td>CE</td>\n",
       "      <td>21</td>\n",
       "      <td>F</td>\n",
       "      <td>0.0</td>\n",
       "      <td>...</td>\n",
       "      <td>NaN</td>\n",
       "      <td>A</td>\n",
       "      <td>A</td>\n",
       "      <td>A</td>\n",
       "      <td>A</td>\n",
       "      <td>C</td>\n",
       "      <td>A</td>\n",
       "      <td>A</td>\n",
       "      <td>B</td>\n",
       "      <td>A</td>\n",
       "    </tr>\n",
       "    <tr>\n",
       "      <th>3</th>\n",
       "      <td>4</td>\n",
       "      <td>3d6ec248fef899c414e77f82d5c6d2bffbeaf7fe</td>\n",
       "      <td>2016</td>\n",
       "      <td>3304557</td>\n",
       "      <td>Rio de Janeiro</td>\n",
       "      <td>33</td>\n",
       "      <td>RJ</td>\n",
       "      <td>25</td>\n",
       "      <td>F</td>\n",
       "      <td>0.0</td>\n",
       "      <td>...</td>\n",
       "      <td>5.0</td>\n",
       "      <td>C</td>\n",
       "      <td>A</td>\n",
       "      <td>A</td>\n",
       "      <td>A</td>\n",
       "      <td>A</td>\n",
       "      <td>D</td>\n",
       "      <td>A</td>\n",
       "      <td>A</td>\n",
       "      <td>A</td>\n",
       "    </tr>\n",
       "    <tr>\n",
       "      <th>4</th>\n",
       "      <td>5</td>\n",
       "      <td>bf896ac8d3ecadd6dba1dfbf50110afcbf5d3268</td>\n",
       "      <td>2016</td>\n",
       "      <td>1302603</td>\n",
       "      <td>Manaus</td>\n",
       "      <td>13</td>\n",
       "      <td>AM</td>\n",
       "      <td>28</td>\n",
       "      <td>M</td>\n",
       "      <td>0.0</td>\n",
       "      <td>...</td>\n",
       "      <td>NaN</td>\n",
       "      <td>A</td>\n",
       "      <td>A</td>\n",
       "      <td>A</td>\n",
       "      <td>A</td>\n",
       "      <td>A</td>\n",
       "      <td>A</td>\n",
       "      <td>A</td>\n",
       "      <td>A</td>\n",
       "      <td>A</td>\n",
       "    </tr>\n",
       "    <tr>\n",
       "      <th>5</th>\n",
       "      <td>6</td>\n",
       "      <td>a37c99ec251d4f6e8ddbeabadf1c87fdbfddc4d1</td>\n",
       "      <td>2016</td>\n",
       "      <td>2902005</td>\n",
       "      <td>Aracatu</td>\n",
       "      <td>29</td>\n",
       "      <td>BA</td>\n",
       "      <td>18</td>\n",
       "      <td>F</td>\n",
       "      <td>0.0</td>\n",
       "      <td>...</td>\n",
       "      <td>NaN</td>\n",
       "      <td>A</td>\n",
       "      <td>A</td>\n",
       "      <td>A</td>\n",
       "      <td>A</td>\n",
       "      <td>A</td>\n",
       "      <td>A</td>\n",
       "      <td>A</td>\n",
       "      <td>A</td>\n",
       "      <td>A</td>\n",
       "    </tr>\n",
       "    <tr>\n",
       "      <th>6</th>\n",
       "      <td>7</td>\n",
       "      <td>63b4e128e9ffe8ab27f5d093db1976ef4f353e0a</td>\n",
       "      <td>2016</td>\n",
       "      <td>5102637</td>\n",
       "      <td>Campo Novo do Parecis</td>\n",
       "      <td>51</td>\n",
       "      <td>MT</td>\n",
       "      <td>18</td>\n",
       "      <td>F</td>\n",
       "      <td>0.0</td>\n",
       "      <td>...</td>\n",
       "      <td>0.0</td>\n",
       "      <td>A</td>\n",
       "      <td>A</td>\n",
       "      <td>A</td>\n",
       "      <td>B</td>\n",
       "      <td>B</td>\n",
       "      <td>A</td>\n",
       "      <td>A</td>\n",
       "      <td>A</td>\n",
       "      <td>A</td>\n",
       "    </tr>\n",
       "    <tr>\n",
       "      <th>7</th>\n",
       "      <td>8</td>\n",
       "      <td>2eb189d4912f64b19d1967e8e84b6141aba18770</td>\n",
       "      <td>2016</td>\n",
       "      <td>4301602</td>\n",
       "      <td>Bagé</td>\n",
       "      <td>43</td>\n",
       "      <td>RS</td>\n",
       "      <td>18</td>\n",
       "      <td>F</td>\n",
       "      <td>0.0</td>\n",
       "      <td>...</td>\n",
       "      <td>NaN</td>\n",
       "      <td>C</td>\n",
       "      <td>A</td>\n",
       "      <td>A</td>\n",
       "      <td>A</td>\n",
       "      <td>A</td>\n",
       "      <td>D</td>\n",
       "      <td>A</td>\n",
       "      <td>A</td>\n",
       "      <td>A</td>\n",
       "    </tr>\n",
       "    <tr>\n",
       "      <th>8</th>\n",
       "      <td>9</td>\n",
       "      <td>5822cb43e0800429be2084b3f86a63aaa73fa66c</td>\n",
       "      <td>2016</td>\n",
       "      <td>2601904</td>\n",
       "      <td>Bezerros</td>\n",
       "      <td>26</td>\n",
       "      <td>PE</td>\n",
       "      <td>16</td>\n",
       "      <td>F</td>\n",
       "      <td>0.0</td>\n",
       "      <td>...</td>\n",
       "      <td>NaN</td>\n",
       "      <td>D</td>\n",
       "      <td>A</td>\n",
       "      <td>A</td>\n",
       "      <td>A</td>\n",
       "      <td>B</td>\n",
       "      <td>A</td>\n",
       "      <td>D</td>\n",
       "      <td>B</td>\n",
       "      <td>A</td>\n",
       "    </tr>\n",
       "    <tr>\n",
       "      <th>9</th>\n",
       "      <td>10</td>\n",
       "      <td>94f7e277f87cd58e10a45da4ad5dd168651cf3ef</td>\n",
       "      <td>2016</td>\n",
       "      <td>3152501</td>\n",
       "      <td>Pouso Alegre</td>\n",
       "      <td>31</td>\n",
       "      <td>MG</td>\n",
       "      <td>24</td>\n",
       "      <td>M</td>\n",
       "      <td>0.0</td>\n",
       "      <td>...</td>\n",
       "      <td>NaN</td>\n",
       "      <td>A</td>\n",
       "      <td>A</td>\n",
       "      <td>A</td>\n",
       "      <td>B</td>\n",
       "      <td>D</td>\n",
       "      <td>A</td>\n",
       "      <td>B</td>\n",
       "      <td>B</td>\n",
       "      <td>C</td>\n",
       "    </tr>\n",
       "  </tbody>\n",
       "</table>\n",
       "<p>10 rows × 167 columns</p>\n",
       "</div>"
      ],
      "text/plain": [
       "   Unnamed: 0                              NU_INSCRICAO  NU_ANO  \\\n",
       "0           1  ed50e8aaa58e7a806c337585efee9ca41f1eb1ad    2016   \n",
       "1           2  2c3acac4b33ec2b195d77e7c04a2d75727fad723    2016   \n",
       "2           3  f4545f8ccb9ff5c8aad7d32951b3f251a26e6568    2016   \n",
       "3           4  3d6ec248fef899c414e77f82d5c6d2bffbeaf7fe    2016   \n",
       "4           5  bf896ac8d3ecadd6dba1dfbf50110afcbf5d3268    2016   \n",
       "5           6  a37c99ec251d4f6e8ddbeabadf1c87fdbfddc4d1    2016   \n",
       "6           7  63b4e128e9ffe8ab27f5d093db1976ef4f353e0a    2016   \n",
       "7           8  2eb189d4912f64b19d1967e8e84b6141aba18770    2016   \n",
       "8           9  5822cb43e0800429be2084b3f86a63aaa73fa66c    2016   \n",
       "9          10  94f7e277f87cd58e10a45da4ad5dd168651cf3ef    2016   \n",
       "\n",
       "   CO_MUNICIPIO_RESIDENCIA NO_MUNICIPIO_RESIDENCIA  CO_UF_RESIDENCIA  \\\n",
       "0                  4314902            Porto Alegre                43   \n",
       "1                  2304707                  Granja                23   \n",
       "2                  2304400               Fortaleza                23   \n",
       "3                  3304557          Rio de Janeiro                33   \n",
       "4                  1302603                  Manaus                13   \n",
       "5                  2902005                 Aracatu                29   \n",
       "6                  5102637   Campo Novo do Parecis                51   \n",
       "7                  4301602                    Bagé                43   \n",
       "8                  2601904                Bezerros                26   \n",
       "9                  3152501            Pouso Alegre                31   \n",
       "\n",
       "  SG_UF_RESIDENCIA  NU_IDADE TP_SEXO  TP_ESTADO_CIVIL  ...  Q041  Q042  Q043  \\\n",
       "0               RS        24       M              0.0  ...   5.0     A     A   \n",
       "1               CE        17       F              0.0  ...   NaN     A     A   \n",
       "2               CE        21       F              0.0  ...   NaN     A     A   \n",
       "3               RJ        25       F              0.0  ...   5.0     C     A   \n",
       "4               AM        28       M              0.0  ...   NaN     A     A   \n",
       "5               BA        18       F              0.0  ...   NaN     A     A   \n",
       "6               MT        18       F              0.0  ...   0.0     A     A   \n",
       "7               RS        18       F              0.0  ...   NaN     C     A   \n",
       "8               PE        16       F              0.0  ...   NaN     D     A   \n",
       "9               MG        24       M              0.0  ...   NaN     A     A   \n",
       "\n",
       "  Q044  Q045 Q046  Q047  Q048  Q049  Q050  \n",
       "0    A     A    A     A     A     B     D  \n",
       "1    C     A    B     A     A     C     A  \n",
       "2    A     A    C     A     A     B     A  \n",
       "3    A     A    A     D     A     A     A  \n",
       "4    A     A    A     A     A     A     A  \n",
       "5    A     A    A     A     A     A     A  \n",
       "6    A     B    B     A     A     A     A  \n",
       "7    A     A    A     D     A     A     A  \n",
       "8    A     A    B     A     D     B     A  \n",
       "9    A     B    D     A     B     B     C  \n",
       "\n",
       "[10 rows x 167 columns]"
      ]
     },
     "execution_count": 5,
     "metadata": {},
     "output_type": "execute_result"
    }
   ],
   "source": [
    "train.head(10)"
   ]
  },
  {
   "cell_type": "code",
   "execution_count": 8,
   "metadata": {},
   "outputs": [
    {
     "data": {
      "text/plain": [
       "13730"
      ]
     },
     "execution_count": 8,
     "metadata": {},
     "output_type": "execute_result"
    }
   ],
   "source": [
    "len(train)"
   ]
  },
  {
   "cell_type": "code",
   "execution_count": 15,
   "metadata": {},
   "outputs": [
    {
     "data": {
      "text/plain": [
       "3597"
      ]
     },
     "execution_count": 15,
     "metadata": {},
     "output_type": "execute_result"
    }
   ],
   "source": [
    "sum(train['NU_NOTA_MT'].isna())"
   ]
  },
  {
   "cell_type": "code",
   "execution_count": 16,
   "metadata": {},
   "outputs": [
    {
     "data": {
      "text/plain": [
       "13730"
      ]
     },
     "execution_count": 16,
     "metadata": {},
     "output_type": "execute_result"
    }
   ],
   "source": [
    "len(train['NU_NOTA_MT'].isna())"
   ]
  },
  {
   "cell_type": "code",
   "execution_count": 11,
   "metadata": {},
   "outputs": [
    {
     "data": {
      "text/plain": [
       "0               Porto Alegre\n",
       "1                     Granja\n",
       "2                  Fortaleza\n",
       "3             Rio de Janeiro\n",
       "4                     Manaus\n",
       "                ...         \n",
       "13725     Araçoiaba da Serra\n",
       "13726     São Vicente Ferrer\n",
       "13727         Tupanci do Sul\n",
       "13728              Nilópolis\n",
       "13729    Almirante Tamandaré\n",
       "Name: NO_MUNICIPIO_RESIDENCIA, Length: 13730, dtype: object"
      ]
     },
     "execution_count": 11,
     "metadata": {},
     "output_type": "execute_result"
    }
   ],
   "source": [
    "train['NO_MUNICIPIO_RESIDENCIA']"
   ]
  },
  {
   "cell_type": "code",
   "execution_count": 27,
   "metadata": {},
   "outputs": [
    {
     "data": {
      "text/plain": [
       "<matplotlib.axes._subplots.AxesSubplot at 0x1a37b3e9b88>"
      ]
     },
     "execution_count": 27,
     "metadata": {},
     "output_type": "execute_result"
    },
    {
     "data": {
      "image/png": "[encoded data removed]",
      "text/plain": [
       "<Figure size 1296x576 with 1 Axes>"
      ]
     },
     "metadata": {
      "needs_background": "light"
     },
     "output_type": "display_data"
    }
   ],
   "source": [
    "plt.figure( figsize=(18,8))\n",
    "sns.heatmap(train.isna(), yticklabels=False, cbar=False, cmap='viridis' )"
   ]
  },
  {
   "cell_type": "code",
   "execution_count": 31,
   "metadata": {},
   "outputs": [
    {
     "data": {
      "text/plain": [
       "<matplotlib.axes._subplots.AxesSubplot at 0x1a307aa3688>"
      ]
     },
     "execution_count": 31,
     "metadata": {},
     "output_type": "execute_result"
    },
    {
     "data": {
      "image/png": "[encoded data removed]",
      "text/plain": [
       "<Figure size 432x288 with 1 Axes>"
      ]
     },
     "metadata": {
      "needs_background": "light"
     },
     "output_type": "display_data"
    }
   ],
   "source": [
    "train['NU_NOTA_MT'].describe().plot()"
   ]
  },
  {
   "cell_type": "code",
   "execution_count": 32,
   "metadata": {},
   "outputs": [
    {
     "data": {
      "text/plain": [
       "count    10133.000000\n",
       "mean       482.497928\n",
       "std         99.826323\n",
       "min          0.000000\n",
       "25%        408.900000\n",
       "50%        461.200000\n",
       "75%        537.600000\n",
       "max        952.000000\n",
       "Name: NU_NOTA_MT, dtype: float64"
      ]
     },
     "execution_count": 32,
     "metadata": {},
     "output_type": "execute_result"
    }
   ],
   "source": [
    "train['NU_NOTA_MT'].describe()"
   ]
  },
  {
   "cell_type": "code",
   "execution_count": 45,
   "metadata": {},
   "outputs": [],
   "source": [
    "questoes = np.arange(2,51)\n",
    "questoes =  pd.Series(questoes)"
   ]
  },
  {
   "cell_type": "code",
   "execution_count": 47,
   "metadata": {},
   "outputs": [
    {
     "data": {
      "text/plain": [
       "0      Q02\n",
       "1      Q03\n",
       "2      Q04\n",
       "3      Q05\n",
       "4      Q06\n",
       "5      Q07\n",
       "6      Q08\n",
       "7      Q09\n",
       "8     Q010\n",
       "9     Q011\n",
       "10    Q012\n",
       "11    Q013\n",
       "12    Q014\n",
       "13    Q015\n",
       "14    Q016\n",
       "15    Q017\n",
       "16    Q018\n",
       "17    Q019\n",
       "18    Q020\n",
       "19    Q021\n",
       "20    Q022\n",
       "21    Q023\n",
       "22    Q024\n",
       "23    Q025\n",
       "24    Q026\n",
       "25    Q027\n",
       "26    Q028\n",
       "27    Q029\n",
       "28    Q030\n",
       "29    Q031\n",
       "30    Q032\n",
       "31    Q033\n",
       "32    Q034\n",
       "33    Q035\n",
       "34    Q036\n",
       "35    Q037\n",
       "36    Q038\n",
       "37    Q039\n",
       "38    Q040\n",
       "39    Q041\n",
       "40    Q042\n",
       "41    Q043\n",
       "42    Q044\n",
       "43    Q045\n",
       "44    Q046\n",
       "45    Q047\n",
       "46    Q048\n",
       "47    Q049\n",
       "48    Q050\n",
       "dtype: object"
      ]
     },
     "execution_count": 47,
     "metadata": {},
     "output_type": "execute_result"
    }
   ],
   "source": [
    "questoes.apply(lambda x:  'Q0' + str(x))"
   ]
  },
  {
   "cell_type": "code",
   "execution_count": null,
   "metadata": {},
   "outputs": [],
   "source": []
  }
 ],
 "metadata": {
  "kernelspec": {
   "display_name": "Python 3",
   "language": "python",
   "name": "python3"
  },
  "language_info": {
   "codemirror_mode": {
    "name": "ipython",
    "version": 3
   },
   "file_extension": ".py",
   "mimetype": "text/x-python",
   "name": "python",
   "nbconvert_exporter": "python",
   "pygments_lexer": "ipython3",
   "version": "3.7.6"
  }
 },
 "nbformat": 4,
 "nbformat_minor": 4
}
